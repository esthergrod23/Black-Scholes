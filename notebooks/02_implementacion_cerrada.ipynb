# Phase 2 — Closed implementation in Python

In this phase we`ll implement the closed formula of Black–Scholes in Python **without using SciPy**.
The functions `norm_pdf`, `norm_cdf`, `d1_d2`, `bs_price_call`, `bs_price_put` are defined.

Also its verified:
- Known values (benchmarks)
- Put–call parity
- Limits when $\tau \to 0$ (expiration) and $\sigma \to 0$ (no volatility)


import math
from src.closed_form import norm_pdf, norm_cdf, d1_d2, bs_price_call, bs_price_put


## Normal distribution utilitiesWe define the PDF and CDF of the standard Normal.The CDF is implemented using the error function:$$Phi(x) = 0.5 cdot (1 + text{erf}(x/sqrt{2})).$$


print("φ(0) =", norm_pdf(0.0))
print("Φ(0) =", norm_cdf(0.0))
print("Φ(-3) =", norm_cdf(-3.0))
print("Φ(3)  =", norm_cdf(3.0))


## Closed-form Black–Scholes pricingWe implemented `bs_price_call` and `bs_price_put`, which also handle special limits.


S, K, t, T, r, sigma = 100, 100, 0.0, 1.0, 0.05, 0.2

c = bs_price_call(S, K, t, T, r, sigma)
p = bs_price_put(S, K, t, T, r, sigma)

print("Call price:", c)
print("Put price :", p)
print("Put–call parity check:", c - p, "≈", S - K*math.exp(-r*(T-t)))


## Edge cases- **At expiry ($tau = 0$):** the price is exactly the payoff.- **When $sigma to 0$:** the underlying follows a deterministic forward.


# Expiry
print("Call expiry (S=120,K=100):", bs_price_call(120,100,1,1,r,0.2))
print("Put expiry  (S=120,K=100):", bs_price_put(120,100,1,1,r,0.2))

# Zero volatility
print("Call sigma->0:", bs_price_call(120,100,0,1,r,1e-16))
print("Put sigma->0 :", bs_price_put(80,100,0,1,r,1e-16))



