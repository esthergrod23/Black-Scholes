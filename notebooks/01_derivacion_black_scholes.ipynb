# 01_derivacion_black_scholes.ipynb
**Phase 1 — Fundamentals and derivation**

This notebook contains the complete derivation of the Black–Scholes formula, verification via Monte Carlo, basic unit tests and analytic Greeks (Delta, Gamma). All derivations are documented in LaTeX and code cells are provided for numerical checks.


## Objectives

1. Define the Geometric Brownian Motion (GBM): \(dS_t = \mu S_t\,dt + \sigma S_t\,dW_t\).
2. Solve the SDE (Itô) and show \(S_t\) is log-normal.
3. Change to the risk-neutral measure (\(\mu \to r\)) and justify (sketch of Girsanov).
4. Build the replicating portfolio, apply Itô to \(V(S,t)\) and derive the Black–Scholes PDE:
   \[
   \partial_t V + \tfrac12\sigma^2 S^2 \partial_{SS}V + rS\partial_S V - rV = 0.
   \]
5. Specify terminal/boundary conditions for European call/put.
6. Solve the PDE via transformation to the heat equation (complete algebra for \(\alpha,\beta\)) and derive the closed-form, define \(d_1,d_2\).
7. Numerical verification (BS closed-form vs Monte Carlo) and basic tests.


## 1) Geometric Brownian Motion (GBM)

Model the underlying price \(S_t\) by the SDE:

\[
dS_t = \mu S_t\,dt + \sigma S_t\,dW_t,\qquad S_0>0,
\]

where \(\mu\) is the drift, \(\sigma>0\) the volatility and \(W_t\) a standard Brownian motion under the physical measure \(\mathbb P\).


## 2) Itô solution — log-normal distribution

Apply Itô's formula to \(f(S_t)=\ln S_t\):

\[
d\ln S_t = \frac{1}{S_t}dS_t - \frac{1}{2}\frac{1}{S_t^2}(dS_t)^2.
\]

Substituting \(dS_t=\mu S_t dt + \sigma S_t dW_t\) and using \((dW_t)^2=dt\) gives

\[
d\ln S_t = \left(\mu - \tfrac12\sigma^2\right)dt + \sigma dW_t.
\]

Integrating:

\[
\ln S_t = \ln S_0 + \left(\mu - \tfrac12\sigma^2\right)t + \sigma W_t,
\]

so

\[
S_t = S_0\exp\Big(\left(\mu - \tfrac12\sigma^2\right)t + \sigma W_t\Big),
\]

and \(\ln S_t\) is Normal.


## 3) Risk-neutral measure (why \(\mu\to r\))

To price derivatives without arbitrage we require the discounted price \(e^{-rt}S_t\) to be a martingale under some measure \(\mathbb Q\). Applying Itô:

\[
d(e^{-rt}S_t) = e^{-rt}S_t((\mu-r)dt + \sigma dW_t).
\]

To remove the drift we move to \(\mathbb Q\). By Girsanov there exists \(\mathbb Q\) such that

\[
dS_t = rS_t\,dt + \sigma S_t\,dW_t^{\mathbb Q}.
\]

Hence derivative pricing uses dynamics with drift \(r\) and expectations under \(\mathbb Q\).


## 4) Replicating portfolio and Black–Scholes PDE

Let \(V(S,t)\) be the derivative price. Consider a self-financing portfolio
\(\Pi_t = \Delta_t S_t + B_t = V(S_t,t)\). Apply Itô to \(V(S_t,t)\):

\[
dV = \partial_t V\,dt + \partial_S V\,dS_t + \tfrac12\partial_{SS}V\,(dS_t)^2.
\]

Under \(\mathbb Q\): \(dS_t = rS_t dt + \sigma S_t dW_t^{\mathbb Q}\) and \((dS_t)^2=\sigma^2S_t^2dt\).

Choosing \(\Delta_t=\partial_S V\) cancels the stochastic term. Matching deterministic parts yields:

\[
\boxed{\;\partial_t V + \tfrac12\sigma^2 S^2 \partial_{SS}V + rS\partial_S V - rV = 0.\;}
\]


## 5) Terminal / boundary conditions

**European call** (strike \(K\), expiry \(T\)):

- Payoff: \(V(S,T)=\max(S-K,0)\).
- Limits: \(\lim_{S\to 0}C(S,t)=0,\quad \lim_{S\to\infty}(C(S,t)-S)=-Ke^{-r(T-t)}\).

**European put**:

- Payoff: \(V(S,T)=\max(K-S,0)\).
- Limits: \(\lim_{S\to0}P(S,t)=Ke^{-r(T-t)},\quad \lim_{S\to\infty}P(S,t)=0\).

Put-call parity:

\[
C(S,t)-P(S,t)=S-Ke^{-r(T-t)}.
\]


## 6) Transforming the PDE → heat equation (sketch)

Change variables:
\(\tau=T-t\), \(x=\ln S\), \(F(x,\tau)=V(S,t)\).

The PDE becomes:

\[
\partial_\tau F = \tfrac12\sigma^2\partial_{xx}F + \left(r-\tfrac12\sigma^2\right)\partial_x F - rF.
\]

Use ansatz \(F(x,\tau)=e^{\alpha x + \beta\tau}u(x,\tau)\). Choosing \(\alpha,\beta\) appropriately eliminates the \(\partial_x\) and \(u\) terms, yielding:

\[
\partial_\tau u = \tfrac12\sigma^2\partial_{xx}u,
\]

the heat equation. The notebook contains the detailed algebra for \(\alpha,\beta\).


## 7) Closed-form solution — Black–Scholes

After solving the heat equation and reverting variables we obtain the Black–Scholes formula (European call):

\[
C(S,t)=S\Phi(d_1)-Ke^{-r(T-t)}\Phi(d_2),
\]

where

\[
d_1=\frac{\ln(S/K)+(r+\tfrac12\sigma^2)(T-t)}{\sigma\sqrt{T-t}},\qquad d_2=d_1-\sigma\sqrt{T-t}.
\]

For the put use put-call parity or

\[
P(S,t)=Ke^{-r(T-t)}\Phi(-d_2)-S\Phi(-d_1).
\]


# %% cell
import numpy as np
import math
from scipy.stats import norm
import matplotlib.pyplot as plt

def bs_call_price(S, K, t, T, r, sigma):
    tau = T - t
    if tau <= 0:
        return max(S - K, 0.0)
    d1 = (math.log(S/K) + (r + 0.5*sigma*sigma)*tau) / (sigma*math.sqrt(tau))
    d2 = d1 - sigma*math.sqrt(tau)
    return S*norm.cdf(d1) - K*math.exp(-r*tau)*norm.cdf(d2)

def bs_put_price(S, K, t, T, r, sigma):
    tau = T - t
    if tau <= 0:
        return max(K - S, 0.0)
    d1 = (math.log(S/K) + (r + 0.5*sigma*sigma)*tau) / (sigma*math.sqrt(tau))
    d2 = d1 - sigma*math.sqrt(tau)
    return K*math.exp(-r*tau)*norm.cdf(-d2) - S*norm.cdf(-d1)

# Example parameters
S0 = 100.0
K = 100.0
t = 0.0
T = 1.0
r = 0.05
sigma = 0.2

price_bs = bs_call_price(S0, K, t, T, r, sigma)
print('Black-Scholes call price:', price_bs)

# Monte Carlo verification (under Q -> drift r)
def mc_call_price(S0, K, t, T, r, sigma, N=100_000, seed=None):
    if seed is not None:
        np.random.seed(seed)
    tau = T - t
    Z = np.random.randn(N)
    S_T = S0 * np.exp((r - 0.5*sigma*sigma)*tau + sigma*math.sqrt(tau)*Z)
    payoffs = np.maximum(S_T - K, 0.0)
    return math.exp(-r*tau) * payoffs.mean()

for N in [2000, 10000, 50000, 200000]:
    mc = mc_call_price(S0, K, t, T, r, sigma, N=N, seed=123)
    print(f'MC (N={N}): {mc:.6f}  |  error = {abs(mc-price_bs):.6f}')

# Convergence plot (optional)
Ns = np.array([1000, 2000, 5000, 10000, 20000, 50000, 100000])
errs = []
for N in Ns:
    mc = mc_call_price(S0, K, t, T, r, sigma, N=N, seed=123)
    errs.append(abs(mc - price_bs))
plt.figure(figsize=(6,4))
plt.loglog(Ns, errs, marker='o')
plt.grid(True, which="both", ls="--", alpha=0.6)
plt.xlabel("N (simulations)")
plt.ylabel("Absolute error |MC - BS|")
plt.title("Monte Carlo convergence to Black-Scholes")
plt.show()

Black-Scholes call price: 10.450583572185565
MC (N=2000): 10.018339  |  error = 0.432245
MC (N=10000): 10.575095  |  error = 0.124511
MC (N=50000): 10.533463  |  error = 0.082880
MC (N=200000): 10.482924  |  error = 0.032340


## Appendix: Detailed algebra for choosing α and β

(Insert the full step-by-step LaTeX derivation here — the version in the repository contains the algebra. The key results are:)

\[
\alpha = -\left(\frac{r}{\sigma^2}-\tfrac12\right),\qquad
\beta = \tfrac12\sigma^2\alpha^2 + (r-\tfrac12\sigma^2)\alpha - r.
\]

With these choices the ansatz \(F(x,\tau)=e^{\alpha x + \beta\tau}u(x,\tau)\) reduces the PDE to the heat equation \(\partial_\tau u = \tfrac12\sigma^2\partial_{xx}u\).


# %% cell
from scipy.stats import norm

def bs_call_delta(S, K, t, T, r, sigma):
    tau = T - t
    if tau <= 0:
        return 1.0 if S > K else 0.0
    d1 = (math.log(S/K) + (r + 0.5*sigma*sigma)*tau) / (sigma*math.sqrt(tau))
    return norm.cdf(d1)

def bs_call_gamma(S, K, t, T, r, sigma):
    tau = T - t
    if tau <= 0:
        return 0.0
    d1 = (math.log(S/K) + (r + 0.5*sigma*sigma)*tau) / (sigma*math.sqrt(tau))
    return norm.pdf(d1) / (S * sigma * math.sqrt(tau))

# Finite difference checks
def finite_diff_delta(S, K, t, T, r, sigma, h=1e-4):
    C_plus = bs_call_price(S+h, K, t, T, r, sigma)
    C_minus = bs_call_price(S-h, K, t, T, r, sigma)
    return (C_plus - C_minus) / (2*h)

def finite_diff_gamma(S, K, t, T, r, sigma, h=1e-3):
    C_plus = bs_call_price(S+h, K, t, T, r, sigma)
    C = bs_call_price(S, K, t, T, r, sigma)
    C_minus = bs_call_price(S-h, K, t, T, r, sigma)
    return (C_plus - 2*C + C_minus) / (h*h)

S_test = 100.0
print('Analytic Delta:', bs_call_delta(S_test, K, t, T, r, sigma))
print('FD Delta:', finite_diff_delta(S_test, K, t, T, r, sigma))
print('Analytic Gamma:', bs_call_gamma(S_test, K, t, T, r, sigma))
print('FD Gamma:', finite_diff_gamma(S_test, K, t, T, r, sigma))

Analytic Delta: 0.6368306511756191
FD Delta: 0.6368306511816968
Analytic Gamma: 0.018762017345846895
FD Gamma: 0.018762001730010525
